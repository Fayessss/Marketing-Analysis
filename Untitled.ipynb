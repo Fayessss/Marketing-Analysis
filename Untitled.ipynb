{
 "cells": [
  {
   "cell_type": "code",
   "execution_count": 2,
   "id": "76abd1ac",
   "metadata": {},
   "outputs": [],
   "source": [
    "import pandas as pd\n",
    "import statsmodels.api as sm\n",
    "from sklearn.metrics import confusion_matrix\n",
    "from sklearn import model_selection\n",
    "from matplotlib import pyplot as plt\n",
    "import numpy as np\n",
    "import copy\n",
    "import math\n",
    "\n",
    "pd.options.display.max_columns = 25\n",
    "import pickle"
   ]
  },
  {
   "cell_type": "code",
   "execution_count": 3,
   "id": "5377212a",
   "metadata": {},
   "outputs": [],
   "source": [
    "f = open('subscribers','rb')\n",
    "subs = pickle.load(f)"
   ]
  },
  {
   "cell_type": "code",
   "execution_count": 4,
   "id": "4bbac25b",
   "metadata": {},
   "outputs": [
    {
     "data": {
      "text/plain": [
       "comedy           125129\n",
       "drama             46872\n",
       "regional           8990\n",
       "international      6404\n",
       "other              3907\n",
       "Name: preferred_genre, dtype: int64"
      ]
     },
     "execution_count": 4,
     "metadata": {},
     "output_type": "execute_result"
    }
   ],
   "source": [
    "subs['preferred_genre'].value_counts()"
   ]
  },
  {
   "cell_type": "code",
   "execution_count": 5,
   "id": "cbaadf6e",
   "metadata": {},
   "outputs": [
    {
     "data": {
      "text/plain": [
       "Index(['subid', 'package_type', 'num_weekly_services_utilized',\n",
       "       'preferred_genre', 'intended_use', 'weekly_consumption_hour',\n",
       "       'num_ideal_streaming_services', 'retarget_TF', 'age', 'male_TF',\n",
       "       'country', 'attribution_technical', 'attribution_survey', 'op_sys',\n",
       "       'months_per_bill_period', 'plan_type', 'monthly_price',\n",
       "       'discount_price', 'account_creation_date', 'creation_until_cancel_days',\n",
       "       'cancel_before_trial_end', 'trial_end_date',\n",
       "       'initial_credit_card_declined', 'revenue_net', 'join_fee', 'language',\n",
       "       'paid_TF', 'refund_after_trial_TF', 'payment_type'],\n",
       "      dtype='object')"
      ]
     },
     "execution_count": 5,
     "metadata": {},
     "output_type": "execute_result"
    }
   ],
   "source": [
    "subs.columns"
   ]
  },
  {
   "cell_type": "code",
   "execution_count": 6,
   "id": "5beef89a",
   "metadata": {},
   "outputs": [
    {
     "data": {
      "text/plain": [
       "iOS        143921\n",
       "Android     70332\n",
       "Name: op_sys, dtype: int64"
      ]
     },
     "execution_count": 6,
     "metadata": {},
     "output_type": "execute_result"
    }
   ],
   "source": [
    "subs['op_sys'].value_counts()"
   ]
  },
  {
   "cell_type": "code",
   "execution_count": 8,
   "id": "7161727a",
   "metadata": {},
   "outputs": [
    {
     "data": {
      "text/plain": [
       "base        111464\n",
       "enhanced     63241\n",
       "economy      17349\n",
       "Name: package_type, dtype: int64"
      ]
     },
     "execution_count": 8,
     "metadata": {},
     "output_type": "execute_result"
    }
   ],
   "source": [
    "subs['package_type'].value_counts()"
   ]
  }
 ],
 "metadata": {
  "kernelspec": {
   "display_name": "Python 3",
   "language": "python",
   "name": "python3"
  },
  "language_info": {
   "codemirror_mode": {
    "name": "ipython",
    "version": 3
   },
   "file_extension": ".py",
   "mimetype": "text/x-python",
   "name": "python",
   "nbconvert_exporter": "python",
   "pygments_lexer": "ipython3",
   "version": "3.8.8"
  }
 },
 "nbformat": 4,
 "nbformat_minor": 5
}
