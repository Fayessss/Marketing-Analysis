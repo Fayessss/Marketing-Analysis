{
 "cells": [
  {
   "cell_type": "code",
   "execution_count": 1,
   "id": "76e019e5",
   "metadata": {},
   "outputs": [],
   "source": [
    "import pandas as pd\n",
    "import matplotlib.pyplot as plt\n",
    "import numpy as np\n",
    "import pickle"
   ]
  },
  {
   "cell_type": "code",
   "execution_count": 2,
   "id": "dd4fe63a",
   "metadata": {},
   "outputs": [],
   "source": [
    "f = open('subscribers','rb')\n",
    "subs = pickle.load(f)"
   ]
  },
  {
   "cell_type": "code",
   "execution_count": 3,
   "id": "5e789cad",
   "metadata": {},
   "outputs": [],
   "source": [
    "spend_df = pd.read_excel('advertising_spend_data.xlsx')"
   ]
  },
  {
   "cell_type": "code",
   "execution_count": 4,
   "id": "c5ed05e0",
   "metadata": {},
   "outputs": [],
   "source": [
    "spend_df.drop(['date'],axis=1,inplace=True)"
   ]
  },
  {
   "cell_type": "code",
   "execution_count": 5,
   "id": "10c23519",
   "metadata": {},
   "outputs": [
    {
     "data": {
      "text/html": [
       "<div>\n",
       "<style scoped>\n",
       "    .dataframe tbody tr th:only-of-type {\n",
       "        vertical-align: middle;\n",
       "    }\n",
       "\n",
       "    .dataframe tbody tr th {\n",
       "        vertical-align: top;\n",
       "    }\n",
       "\n",
       "    .dataframe thead th {\n",
       "        text-align: right;\n",
       "    }\n",
       "</style>\n",
       "<table border=\"1\" class=\"dataframe\">\n",
       "  <thead>\n",
       "    <tr style=\"text-align: right;\">\n",
       "      <th></th>\n",
       "      <th>facebook</th>\n",
       "      <th>email</th>\n",
       "      <th>search</th>\n",
       "      <th>brand sem intent google</th>\n",
       "      <th>affiliate</th>\n",
       "      <th>email_blast</th>\n",
       "      <th>pinterest</th>\n",
       "      <th>referral</th>\n",
       "    </tr>\n",
       "  </thead>\n",
       "  <tbody>\n",
       "    <tr>\n",
       "      <th>0</th>\n",
       "      <td>84800</td>\n",
       "      <td>75000</td>\n",
       "      <td>17300</td>\n",
       "      <td>21400</td>\n",
       "      <td>11900</td>\n",
       "      <td>10500</td>\n",
       "      <td>5900</td>\n",
       "      <td>6100</td>\n",
       "    </tr>\n",
       "    <tr>\n",
       "      <th>1</th>\n",
       "      <td>60000</td>\n",
       "      <td>75600</td>\n",
       "      <td>17300</td>\n",
       "      <td>21300</td>\n",
       "      <td>12000</td>\n",
       "      <td>29800</td>\n",
       "      <td>6000</td>\n",
       "      <td>6600</td>\n",
       "    </tr>\n",
       "    <tr>\n",
       "      <th>2</th>\n",
       "      <td>52300</td>\n",
       "      <td>76100</td>\n",
       "      <td>18100</td>\n",
       "      <td>21300</td>\n",
       "      <td>16300</td>\n",
       "      <td>65900</td>\n",
       "      <td>6200</td>\n",
       "      <td>6800</td>\n",
       "    </tr>\n",
       "    <tr>\n",
       "      <th>3</th>\n",
       "      <td>49000</td>\n",
       "      <td>75800</td>\n",
       "      <td>18900</td>\n",
       "      <td>21300</td>\n",
       "      <td>16400</td>\n",
       "      <td>73700</td>\n",
       "      <td>6000</td>\n",
       "      <td>7400</td>\n",
       "    </tr>\n",
       "    <tr>\n",
       "      <th>4</th>\n",
       "      <td>51300</td>\n",
       "      <td>76000</td>\n",
       "      <td>21000</td>\n",
       "      <td>21400</td>\n",
       "      <td>12200</td>\n",
       "      <td>32300</td>\n",
       "      <td>6700</td>\n",
       "      <td>7300</td>\n",
       "    </tr>\n",
       "    <tr>\n",
       "      <th>5</th>\n",
       "      <td>56100</td>\n",
       "      <td>75900</td>\n",
       "      <td>21400</td>\n",
       "      <td>21600</td>\n",
       "      <td>11700</td>\n",
       "      <td>9800</td>\n",
       "      <td>6300</td>\n",
       "      <td>7300</td>\n",
       "    </tr>\n",
       "    <tr>\n",
       "      <th>6</th>\n",
       "      <td>51400</td>\n",
       "      <td>76100</td>\n",
       "      <td>32100</td>\n",
       "      <td>22200</td>\n",
       "      <td>12100</td>\n",
       "      <td>3500</td>\n",
       "      <td>7200</td>\n",
       "      <td>8000</td>\n",
       "    </tr>\n",
       "    <tr>\n",
       "      <th>7</th>\n",
       "      <td>49000</td>\n",
       "      <td>75500</td>\n",
       "      <td>33600</td>\n",
       "      <td>22700</td>\n",
       "      <td>14300</td>\n",
       "      <td>300</td>\n",
       "      <td>6700</td>\n",
       "      <td>7400</td>\n",
       "    </tr>\n",
       "    <tr>\n",
       "      <th>8</th>\n",
       "      <td>49700</td>\n",
       "      <td>76600</td>\n",
       "      <td>30100</td>\n",
       "      <td>21700</td>\n",
       "      <td>15000</td>\n",
       "      <td>300</td>\n",
       "      <td>6400</td>\n",
       "      <td>6500</td>\n",
       "    </tr>\n",
       "    <tr>\n",
       "      <th>9</th>\n",
       "      <td>49100</td>\n",
       "      <td>78000</td>\n",
       "      <td>22700</td>\n",
       "      <td>21200</td>\n",
       "      <td>17600</td>\n",
       "      <td>300</td>\n",
       "      <td>5900</td>\n",
       "      <td>10000</td>\n",
       "    </tr>\n",
       "  </tbody>\n",
       "</table>\n",
       "</div>"
      ],
      "text/plain": [
       "   facebook  email  search  brand sem intent google  affiliate  email_blast  \\\n",
       "0     84800  75000   17300                    21400      11900        10500   \n",
       "1     60000  75600   17300                    21300      12000        29800   \n",
       "2     52300  76100   18100                    21300      16300        65900   \n",
       "3     49000  75800   18900                    21300      16400        73700   \n",
       "4     51300  76000   21000                    21400      12200        32300   \n",
       "5     56100  75900   21400                    21600      11700         9800   \n",
       "6     51400  76100   32100                    22200      12100         3500   \n",
       "7     49000  75500   33600                    22700      14300          300   \n",
       "8     49700  76600   30100                    21700      15000          300   \n",
       "9     49100  78000   22700                    21200      17600          300   \n",
       "\n",
       "   pinterest  referral  \n",
       "0       5900      6100  \n",
       "1       6000      6600  \n",
       "2       6200      6800  \n",
       "3       6000      7400  \n",
       "4       6700      7300  \n",
       "5       6300      7300  \n",
       "6       7200      8000  \n",
       "7       6700      7400  \n",
       "8       6400      6500  \n",
       "9       5900     10000  "
      ]
     },
     "execution_count": 5,
     "metadata": {},
     "output_type": "execute_result"
    }
   ],
   "source": [
    "spend_df"
   ]
  },
  {
   "cell_type": "code",
   "execution_count": 6,
   "id": "1d5b5529",
   "metadata": {},
   "outputs": [],
   "source": [
    "sum_df = spend_df.sum()"
   ]
  },
  {
   "cell_type": "code",
   "execution_count": 7,
   "id": "9398b741",
   "metadata": {},
   "outputs": [
    {
     "data": {
      "text/plain": [
       "facebook                   552700\n",
       "email                      760600\n",
       "search                     232500\n",
       "brand sem intent google    216100\n",
       "affiliate                  139500\n",
       "email_blast                226400\n",
       "pinterest                   63300\n",
       "referral                    73400\n",
       "dtype: int64"
      ]
     },
     "execution_count": 7,
     "metadata": {},
     "output_type": "execute_result"
    }
   ],
   "source": [
    "sum_df"
   ]
  },
  {
   "cell_type": "code",
   "execution_count": null,
   "id": "c4bc5ea8",
   "metadata": {},
   "outputs": [],
   "source": []
  },
  {
   "cell_type": "code",
   "execution_count": 20,
   "id": "9c7b9f88",
   "metadata": {},
   "outputs": [],
   "source": [
    "mask = (subs['trial_end_date'] > '2019-07-01')"
   ]
  },
  {
   "cell_type": "code",
   "execution_count": 21,
   "id": "f554db1d",
   "metadata": {},
   "outputs": [
    {
     "data": {
      "text/plain": [
       "True    227628\n",
       "Name: trial_end_date, dtype: int64"
      ]
     },
     "execution_count": 21,
     "metadata": {},
     "output_type": "execute_result"
    }
   ],
   "source": [
    "mask.value_counts()"
   ]
  },
  {
   "cell_type": "code",
   "execution_count": 13,
   "id": "682952b0",
   "metadata": {},
   "outputs": [
    {
     "ename": "NotImplementedError",
     "evalue": "iLocation based boolean indexing on an integer type is not available",
     "output_type": "error",
     "traceback": [
      "\u001b[0;31m---------------------------------------------------------------------------\u001b[0m",
      "\u001b[0;31mNotImplementedError\u001b[0m                       Traceback (most recent call last)",
      "\u001b[0;32m<ipython-input-13-dc42eb7b9efb>\u001b[0m in \u001b[0;36m<module>\u001b[0;34m\u001b[0m\n\u001b[0;32m----> 1\u001b[0;31m \u001b[0msubs\u001b[0m\u001b[0;34m.\u001b[0m\u001b[0miloc\u001b[0m\u001b[0;34m[\u001b[0m\u001b[0mmask\u001b[0m\u001b[0;34m]\u001b[0m\u001b[0;34m\u001b[0m\u001b[0;34m\u001b[0m\u001b[0m\n\u001b[0m",
      "\u001b[0;32m/Library/anaconda3/lib/python3.8/site-packages/pandas/core/indexing.py\u001b[0m in \u001b[0;36m__getitem__\u001b[0;34m(self, key)\u001b[0m\n\u001b[1;32m    893\u001b[0m \u001b[0;34m\u001b[0m\u001b[0m\n\u001b[1;32m    894\u001b[0m             \u001b[0mmaybe_callable\u001b[0m \u001b[0;34m=\u001b[0m \u001b[0mcom\u001b[0m\u001b[0;34m.\u001b[0m\u001b[0mapply_if_callable\u001b[0m\u001b[0;34m(\u001b[0m\u001b[0mkey\u001b[0m\u001b[0;34m,\u001b[0m \u001b[0mself\u001b[0m\u001b[0;34m.\u001b[0m\u001b[0mobj\u001b[0m\u001b[0;34m)\u001b[0m\u001b[0;34m\u001b[0m\u001b[0;34m\u001b[0m\u001b[0m\n\u001b[0;32m--> 895\u001b[0;31m             \u001b[0;32mreturn\u001b[0m \u001b[0mself\u001b[0m\u001b[0;34m.\u001b[0m\u001b[0m_getitem_axis\u001b[0m\u001b[0;34m(\u001b[0m\u001b[0mmaybe_callable\u001b[0m\u001b[0;34m,\u001b[0m \u001b[0maxis\u001b[0m\u001b[0;34m=\u001b[0m\u001b[0maxis\u001b[0m\u001b[0;34m)\u001b[0m\u001b[0;34m\u001b[0m\u001b[0;34m\u001b[0m\u001b[0m\n\u001b[0m\u001b[1;32m    896\u001b[0m \u001b[0;34m\u001b[0m\u001b[0m\n\u001b[1;32m    897\u001b[0m     \u001b[0;32mdef\u001b[0m \u001b[0m_is_scalar_access\u001b[0m\u001b[0;34m(\u001b[0m\u001b[0mself\u001b[0m\u001b[0;34m,\u001b[0m \u001b[0mkey\u001b[0m\u001b[0;34m:\u001b[0m \u001b[0mTuple\u001b[0m\u001b[0;34m)\u001b[0m\u001b[0;34m:\u001b[0m\u001b[0;34m\u001b[0m\u001b[0;34m\u001b[0m\u001b[0m\n",
      "\u001b[0;32m/Library/anaconda3/lib/python3.8/site-packages/pandas/core/indexing.py\u001b[0m in \u001b[0;36m_getitem_axis\u001b[0;34m(self, key, axis)\u001b[0m\n\u001b[1;32m   1485\u001b[0m \u001b[0;34m\u001b[0m\u001b[0m\n\u001b[1;32m   1486\u001b[0m         \u001b[0;32mif\u001b[0m \u001b[0mcom\u001b[0m\u001b[0;34m.\u001b[0m\u001b[0mis_bool_indexer\u001b[0m\u001b[0;34m(\u001b[0m\u001b[0mkey\u001b[0m\u001b[0;34m)\u001b[0m\u001b[0;34m:\u001b[0m\u001b[0;34m\u001b[0m\u001b[0;34m\u001b[0m\u001b[0m\n\u001b[0;32m-> 1487\u001b[0;31m             \u001b[0mself\u001b[0m\u001b[0;34m.\u001b[0m\u001b[0m_validate_key\u001b[0m\u001b[0;34m(\u001b[0m\u001b[0mkey\u001b[0m\u001b[0;34m,\u001b[0m \u001b[0maxis\u001b[0m\u001b[0;34m)\u001b[0m\u001b[0;34m\u001b[0m\u001b[0;34m\u001b[0m\u001b[0m\n\u001b[0m\u001b[1;32m   1488\u001b[0m             \u001b[0;32mreturn\u001b[0m \u001b[0mself\u001b[0m\u001b[0;34m.\u001b[0m\u001b[0m_getbool_axis\u001b[0m\u001b[0;34m(\u001b[0m\u001b[0mkey\u001b[0m\u001b[0;34m,\u001b[0m \u001b[0maxis\u001b[0m\u001b[0;34m=\u001b[0m\u001b[0maxis\u001b[0m\u001b[0;34m)\u001b[0m\u001b[0;34m\u001b[0m\u001b[0;34m\u001b[0m\u001b[0m\n\u001b[1;32m   1489\u001b[0m \u001b[0;34m\u001b[0m\u001b[0m\n",
      "\u001b[0;32m/Library/anaconda3/lib/python3.8/site-packages/pandas/core/indexing.py\u001b[0m in \u001b[0;36m_validate_key\u001b[0;34m(self, key, axis)\u001b[0m\n\u001b[1;32m   1342\u001b[0m             \u001b[0;32mif\u001b[0m \u001b[0mhasattr\u001b[0m\u001b[0;34m(\u001b[0m\u001b[0mkey\u001b[0m\u001b[0;34m,\u001b[0m \u001b[0;34m\"index\"\u001b[0m\u001b[0;34m)\u001b[0m \u001b[0;32mand\u001b[0m \u001b[0misinstance\u001b[0m\u001b[0;34m(\u001b[0m\u001b[0mkey\u001b[0m\u001b[0;34m.\u001b[0m\u001b[0mindex\u001b[0m\u001b[0;34m,\u001b[0m \u001b[0mIndex\u001b[0m\u001b[0;34m)\u001b[0m\u001b[0;34m:\u001b[0m\u001b[0;34m\u001b[0m\u001b[0;34m\u001b[0m\u001b[0m\n\u001b[1;32m   1343\u001b[0m                 \u001b[0;32mif\u001b[0m \u001b[0mkey\u001b[0m\u001b[0;34m.\u001b[0m\u001b[0mindex\u001b[0m\u001b[0;34m.\u001b[0m\u001b[0minferred_type\u001b[0m \u001b[0;34m==\u001b[0m \u001b[0;34m\"integer\"\u001b[0m\u001b[0;34m:\u001b[0m\u001b[0;34m\u001b[0m\u001b[0;34m\u001b[0m\u001b[0m\n\u001b[0;32m-> 1344\u001b[0;31m                     raise NotImplementedError(\n\u001b[0m\u001b[1;32m   1345\u001b[0m                         \u001b[0;34m\"iLocation based boolean \"\u001b[0m\u001b[0;34m\u001b[0m\u001b[0;34m\u001b[0m\u001b[0m\n\u001b[1;32m   1346\u001b[0m                         \u001b[0;34m\"indexing on an integer type \"\u001b[0m\u001b[0;34m\u001b[0m\u001b[0;34m\u001b[0m\u001b[0m\n",
      "\u001b[0;31mNotImplementedError\u001b[0m: iLocation based boolean indexing on an integer type is not available"
     ]
    }
   ],
   "source": [
    "subs.iloc[mask]"
   ]
  },
  {
   "cell_type": "code",
   "execution_count": 23,
   "id": "da46bdd4",
   "metadata": {},
   "outputs": [
    {
     "data": {
      "text/plain": [
       "facebook                   80251\n",
       "email                      25690\n",
       "search                     25306\n",
       "organic                    22013\n",
       "brand sem intent google    18524\n",
       "google_organic             10691\n",
       "affiliate                   9894\n",
       "email_blast                 7277\n",
       "pinterest                   6065\n",
       "referral                    5170\n",
       "facebook_organic            3272\n",
       "discovery                   2571\n",
       "brand sem intent bing       2231\n",
       "other                       1786\n",
       "display                     1407\n",
       "bing                        1146\n",
       "internal                    1122\n",
       "podcast                      985\n",
       "youtube                      913\n",
       "bing_organic                 369\n",
       "vod                          297\n",
       "ott                          158\n",
       "direct_mail                  139\n",
       "quora                        100\n",
       "samsung                       86\n",
       "appstore                      44\n",
       "criteo                        44\n",
       "pinterest_organic             30\n",
       "influencer                    21\n",
       "playstore                     12\n",
       "twitter                        5\n",
       "content_greatist               5\n",
       "tv                             4\n",
       "Name: attribution_technical, dtype: int64"
      ]
     },
     "execution_count": 23,
     "metadata": {},
     "output_type": "execute_result"
    }
   ],
   "source": [
    "#last interacted method:\n",
    "channel_sum = subs['attribution_technical'].value_counts()\n",
    "channel_sum"
   ]
  },
  {
   "cell_type": "markdown",
   "id": "a7a50bf3",
   "metadata": {},
   "source": [
    "# 1.1 Calculate Average CAC"
   ]
  },
  {
   "cell_type": "code",
   "execution_count": 134,
   "id": "6169284a",
   "metadata": {},
   "outputs": [],
   "source": [
    "sum_dict = sum_df.to_dict()"
   ]
  },
  {
   "cell_type": "code",
   "execution_count": 135,
   "id": "2f8e5278",
   "metadata": {},
   "outputs": [
    {
     "data": {
      "text/plain": [
       "{'facebook': 552700,\n",
       " 'email': 760600,\n",
       " 'search': 232500,\n",
       " 'brand sem intent google': 216100,\n",
       " 'affiliate': 139500,\n",
       " 'email_blast': 226400,\n",
       " 'pinterest': 63300,\n",
       " 'referral': 73400}"
      ]
     },
     "execution_count": 135,
     "metadata": {},
     "output_type": "execute_result"
    }
   ],
   "source": [
    "sum_dict"
   ]
  },
  {
   "cell_type": "code",
   "execution_count": 39,
   "id": "b5f42af2",
   "metadata": {},
   "outputs": [],
   "source": [
    "channel_dict = channel_sum.to_dict()"
   ]
  },
  {
   "cell_type": "code",
   "execution_count": 40,
   "id": "cbc40e77",
   "metadata": {},
   "outputs": [
    {
     "data": {
      "text/plain": [
       "{'facebook': 80251,\n",
       " 'email': 25690,\n",
       " 'search': 25306,\n",
       " 'organic': 22013,\n",
       " 'brand sem intent google': 18524,\n",
       " 'google_organic': 10691,\n",
       " 'affiliate': 9894,\n",
       " 'email_blast': 7277,\n",
       " 'pinterest': 6065,\n",
       " 'referral': 5170,\n",
       " 'facebook_organic': 3272,\n",
       " 'discovery': 2571,\n",
       " 'brand sem intent bing': 2231,\n",
       " 'other': 1786,\n",
       " 'display': 1407,\n",
       " 'bing': 1146,\n",
       " 'internal': 1122,\n",
       " 'podcast': 985,\n",
       " 'youtube': 913,\n",
       " 'bing_organic': 369,\n",
       " 'vod': 297,\n",
       " 'ott': 158,\n",
       " 'direct_mail': 139,\n",
       " 'quora': 100,\n",
       " 'samsung': 86,\n",
       " 'appstore': 44,\n",
       " 'criteo': 44,\n",
       " 'pinterest_organic': 30,\n",
       " 'influencer': 21,\n",
       " 'playstore': 12,\n",
       " 'twitter': 5,\n",
       " 'content_greatist': 5,\n",
       " 'tv': 4}"
      ]
     },
     "execution_count": 40,
     "metadata": {},
     "output_type": "execute_result"
    }
   ],
   "source": [
    "channel_dict"
   ]
  },
  {
   "cell_type": "code",
   "execution_count": 136,
   "id": "7deb3569",
   "metadata": {},
   "outputs": [
    {
     "data": {
      "text/plain": [
       "{'facebook': 6.887141593251174,\n",
       " 'email': 29.606850914752822,\n",
       " 'search': 9.18754445586027,\n",
       " 'brand sem intent google': 11.665946879723602,\n",
       " 'affiliate': 14.09945421467556,\n",
       " 'email_blast': 31.11172186340525,\n",
       " 'pinterest': 10.436933223413025,\n",
       " 'referral': 14.197292069632494}"
      ]
     },
     "execution_count": 136,
     "metadata": {},
     "output_type": "execute_result"
    }
   ],
   "source": [
    "cac_last = {}\n",
    "for key in sum_dict.keys():\n",
    "    cac_last[key] = int(sum_dict[key])/int(channel_dict[key])\n",
    "cac_last"
   ]
  },
  {
   "cell_type": "code",
   "execution_count": null,
   "id": "e32d9e47",
   "metadata": {},
   "outputs": [],
   "source": []
  }
 ],
 "metadata": {
  "kernelspec": {
   "display_name": "Python 3",
   "language": "python",
   "name": "python3"
  },
  "language_info": {
   "codemirror_mode": {
    "name": "ipython",
    "version": 3
   },
   "file_extension": ".py",
   "mimetype": "text/x-python",
   "name": "python",
   "nbconvert_exporter": "python",
   "pygments_lexer": "ipython3",
   "version": "3.8.8"
  }
 },
 "nbformat": 4,
 "nbformat_minor": 5
}
